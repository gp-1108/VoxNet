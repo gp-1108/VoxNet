{
  "cells": [
    {
      "cell_type": "code",
      "source": [
        "!pip install -qq torch torchvision trimesh scipy open3d plotly"
      ],
      "metadata": {
        "id": "Za3QeyWCWiYw"
      },
      "execution_count": 1,
      "outputs": []
    },
    {
      "cell_type": "code",
      "execution_count": 2,
      "metadata": {
        "id": "uWQYH3V7igEu"
      },
      "outputs": [],
      "source": [
        "import os\n",
        "import numpy as np\n",
        "import torch\n",
        "import torch.nn as nn\n",
        "import torch.optim as optim\n",
        "import torchvision.transforms as transforms\n",
        "from torch.utils.data import DataLoader, Dataset\n",
        "import trimesh\n",
        "from scipy.ndimage import zoom\n",
        "import open3d as o3d\n",
        "import plotly.graph_objects as go\n",
        "import matplotlib.pyplot as plt\n",
        "\n",
        "# Check if CUDA is available, else use CPU\n",
        "device = torch.device(\"cuda\" if torch.cuda.is_available() else \"cpu\")"
      ]
    },
    {
      "cell_type": "code",
      "source": [
        "!rm -rf ModelNet10.zip ModelNet10\n",
        "!wget http://3dvision.princeton.edu/projects/2014/3DShapeNets/ModelNet10.zip\n",
        "!unzip -q ModelNet10.zip"
      ],
      "metadata": {
        "id": "-yjaZJpQXVIJ",
        "outputId": "d6d54110-ff6d-4d65-d4b5-fca7676d751e",
        "colab": {
          "base_uri": "https://localhost:8080/"
        }
      },
      "execution_count": 3,
      "outputs": [
        {
          "output_type": "stream",
          "name": "stdout",
          "text": [
            "--2024-08-21 16:08:41--  http://3dvision.princeton.edu/projects/2014/3DShapeNets/ModelNet10.zip\n",
            "Resolving 3dvision.princeton.edu (3dvision.princeton.edu)... 128.112.136.67\n",
            "Connecting to 3dvision.princeton.edu (3dvision.princeton.edu)|128.112.136.67|:80... connected.\n",
            "HTTP request sent, awaiting response... 302 Found\n",
            "Location: https://3dvision.princeton.edu/projects/2014/3DShapeNets/ModelNet10.zip [following]\n",
            "--2024-08-21 16:08:41--  https://3dvision.princeton.edu/projects/2014/3DShapeNets/ModelNet10.zip\n",
            "Connecting to 3dvision.princeton.edu (3dvision.princeton.edu)|128.112.136.67|:443... connected.\n",
            "HTTP request sent, awaiting response... 200 OK\n",
            "Length: 473402300 (451M) [application/zip]\n",
            "Saving to: ‘ModelNet10.zip’\n",
            "\n",
            "ModelNet10.zip      100%[===================>] 451.47M  89.6MB/s    in 4.6s    \n",
            "\n",
            "2024-08-21 16:08:46 (99.0 MB/s) - ‘ModelNet10.zip’ saved [473402300/473402300]\n",
            "\n"
          ]
        }
      ]
    },
    {
      "cell_type": "code",
      "source": [
        "test_path = \"ModelNet10/bed/train/bed_0001.off\"\n",
        "mesh = o3d.io.read_triangle_mesh(test_path)\n",
        "def mesh_to_plotly(mesh):\n",
        "    # Extract vertices and faces from the mesh\n",
        "    vertices = np.asarray(mesh.vertices)\n",
        "    triangles = np.asarray(mesh.triangles)\n",
        "\n",
        "    # Create the plotly mesh\n",
        "    fig = go.Figure(data=[go.Mesh3d(\n",
        "        x=vertices[:, 0],\n",
        "        y=vertices[:, 1],\n",
        "        z=vertices[:, 2],\n",
        "        i=triangles[:, 0],\n",
        "        j=triangles[:, 1],\n",
        "        k=triangles[:, 2],\n",
        "        opacity=0.5,\n",
        "        color='lightblue'\n",
        "    )])\n",
        "\n",
        "    fig.update_layout(\n",
        "        scene=dict(\n",
        "            xaxis=dict(title='X'),\n",
        "            yaxis=dict(title='Y'),\n",
        "            zaxis=dict(title='Z')\n",
        "        ),\n",
        "        title='3D Mesh Visualization'\n",
        "    )\n",
        "\n",
        "    fig.show()\n",
        "\n",
        "# mesh_to_plotly(mesh)"
      ],
      "metadata": {
        "id": "y9Ml3V43bGek"
      },
      "execution_count": 5,
      "outputs": []
    },
    {
      "cell_type": "code",
      "source": [
        "def plot_voxel_grid(mesh_path):\n",
        "    mesh = o3d.io.read_triangle_mesh(mesh_path)\n",
        "    voxel = o3d.geometry.VoxelGrid.create_from_triangle_mesh(mesh, 0.05)\n",
        "    # Extract voxel grid data\n",
        "    voxels = np.array([v.grid_index for v in voxel.get_voxels()])\n",
        "\n",
        "    # Determine voxel grid size\n",
        "    voxel_size = voxel.voxel_size\n",
        "    x_size = int(np.max(voxels[:, 0]) + 1)\n",
        "    y_size = int(np.max(voxels[:, 1]) + 1)\n",
        "    z_size = int(np.max(voxels[:, 2]) + 1)\n",
        "\n",
        "    # Create an empty 3D array\n",
        "    grid = np.zeros((x_size, y_size, z_size))\n",
        "\n",
        "    # Populate the grid\n",
        "    for voxel_index in voxels:\n",
        "        grid[voxel_index[0], voxel_index[1], voxel_index[2]] = 1\n",
        "\n",
        "    # Plot slices of the voxel grid\n",
        "    fig, axes = plt.subplots(1, 3, figsize=(18, 6))\n",
        "\n",
        "    slices = [grid[:, :, z_size // 2], grid[:, y_size // 2, :], grid[x_size // 2, :, :]]\n",
        "    titles = ['XY Plane', 'XZ Plane', 'YZ Plane']\n",
        "\n",
        "    for ax, slice_, title in zip(axes, slices, titles):\n",
        "        cax = ax.imshow(slice_, cmap='gray', origin='lower')\n",
        "        ax.set_title(title)\n",
        "        ax.axis('off')\n",
        "\n",
        "    plt.colorbar(cax, ax=axes.tolist())\n",
        "    plt.show()\n",
        "\n",
        "# Example usage\n",
        "mesh_path = 'ModelNet10/bed/train/bed_0001.off'\n",
        "plot_voxel_grid(mesh_path)"
      ],
      "metadata": {
        "id": "meJqh69Tun0H"
      },
      "execution_count": null,
      "outputs": []
    },
    {
      "cell_type": "code",
      "execution_count": 16,
      "metadata": {
        "id": "O0ya_LiIii_x"
      },
      "outputs": [],
      "source": [
        "class ModelNet10Dataset(Dataset):\n",
        "    def __init__(self, root_dir, transform=None, train=True):\n",
        "        self.root_dir = root_dir\n",
        "        self.transform = transform\n",
        "        self.data = []\n",
        "        self.labels = []\n",
        "        # Filter only directories for class names\n",
        "        self.classes = [d for d in sorted(os.listdir(root_dir)) if os.path.isdir(os.path.join(root_dir, d))]\n",
        "        subfolder = 'train' if train else 'test'\n",
        "        for idx, label in enumerate(self.classes):\n",
        "            new_path = os.path.join(root_dir, label, subfolder)\n",
        "            if os.path.isdir(new_path):  # Ensure this is a directory\n",
        "                for file in os.listdir(new_path):\n",
        "                    file_path = os.path.join(new_path, file)\n",
        "                    if os.path.isfile(file_path) and file_path.endswith('.off'):  # Ensure this is a .off file\n",
        "                        self.data.append(file_path)\n",
        "                        self.labels.append(idx)\n",
        "\n",
        "    def __len__(self):\n",
        "        return len(self.data)\n",
        "\n",
        "    @staticmethod\n",
        "    def get_voxel_grid(mesh_path):\n",
        "        mesh = o3d.io.read_triangle_mesh(mesh_path)\n",
        "        voxel = o3d.geometry.VoxelGrid.create_from_triangle_mesh(mesh, 32)\n",
        "        return voxel\n",
        "\n",
        "    @staticmethod\n",
        "    def get_np_array(voxel_grid):\n",
        "        arr = np.zeros((32, 32, 32), dtype=np.uint8)\n",
        "        for voxel in voxel_grid.get_voxels():\n",
        "            coord = voxel.grid_index\n",
        "            arr[coord[0], coord[1], coord[2]] = 1\n",
        "        return arr\n",
        "\n",
        "    def __getitem__(self, idx):\n",
        "        voxel_grid = ModelNet10Dataset.get_voxel_grid(self.data[idx])\n",
        "        arr = ModelNet10Dataset.get_np_array(voxel_grid)\n",
        "        print(arr)\n",
        "        # voxel_grid = torch.tensor(arr, dtype=torch.float32)\n",
        "        if self.transform:\n",
        "            voxel_grid = self.transform(voxel_grid)\n",
        "        label = self.labels[idx]\n",
        "        return voxel_grid, label"
      ]
    },
    {
      "cell_type": "code",
      "source": [
        "dataset = ModelNet10Dataset(root_dir='ModelNet10', train=True)"
      ],
      "metadata": {
        "id": "G6Z4EqTKdKP3"
      },
      "execution_count": 17,
      "outputs": []
    },
    {
      "cell_type": "code",
      "source": [
        "dataset[0]"
      ],
      "metadata": {
        "id": "KoR3l65BdNvc",
        "outputId": "478810dd-9067-4ded-edd3-826b5bc91161",
        "colab": {
          "base_uri": "https://localhost:8080/"
        }
      },
      "execution_count": 18,
      "outputs": [
        {
          "output_type": "stream",
          "name": "stdout",
          "text": [
            "[[[1 1 0 ... 0 0 0]\n",
            "  [1 1 0 ... 0 0 0]\n",
            "  [1 1 0 ... 0 0 0]\n",
            "  ...\n",
            "  [0 0 0 ... 0 0 0]\n",
            "  [0 0 0 ... 0 0 0]\n",
            "  [0 0 0 ... 0 0 0]]\n",
            "\n",
            " [[1 1 0 ... 0 0 0]\n",
            "  [1 1 0 ... 0 0 0]\n",
            "  [1 1 0 ... 0 0 0]\n",
            "  ...\n",
            "  [0 0 0 ... 0 0 0]\n",
            "  [0 0 0 ... 0 0 0]\n",
            "  [0 0 0 ... 0 0 0]]\n",
            "\n",
            " [[0 0 0 ... 0 0 0]\n",
            "  [0 0 0 ... 0 0 0]\n",
            "  [0 0 0 ... 0 0 0]\n",
            "  ...\n",
            "  [0 0 0 ... 0 0 0]\n",
            "  [0 0 0 ... 0 0 0]\n",
            "  [0 0 0 ... 0 0 0]]\n",
            "\n",
            " ...\n",
            "\n",
            " [[0 0 0 ... 0 0 0]\n",
            "  [0 0 0 ... 0 0 0]\n",
            "  [0 0 0 ... 0 0 0]\n",
            "  ...\n",
            "  [0 0 0 ... 0 0 0]\n",
            "  [0 0 0 ... 0 0 0]\n",
            "  [0 0 0 ... 0 0 0]]\n",
            "\n",
            " [[0 0 0 ... 0 0 0]\n",
            "  [0 0 0 ... 0 0 0]\n",
            "  [0 0 0 ... 0 0 0]\n",
            "  ...\n",
            "  [0 0 0 ... 0 0 0]\n",
            "  [0 0 0 ... 0 0 0]\n",
            "  [0 0 0 ... 0 0 0]]\n",
            "\n",
            " [[0 0 0 ... 0 0 0]\n",
            "  [0 0 0 ... 0 0 0]\n",
            "  [0 0 0 ... 0 0 0]\n",
            "  ...\n",
            "  [0 0 0 ... 0 0 0]\n",
            "  [0 0 0 ... 0 0 0]\n",
            "  [0 0 0 ... 0 0 0]]]\n"
          ]
        },
        {
          "output_type": "execute_result",
          "data": {
            "text/plain": [
              "(VoxelGrid with 12 voxels., 0)"
            ]
          },
          "metadata": {},
          "execution_count": 18
        }
      ]
    },
    {
      "cell_type": "code",
      "execution_count": null,
      "metadata": {
        "id": "eRhR0eVmilXS"
      },
      "outputs": [],
      "source": [
        "class VoxNet(nn.Module):\n",
        "    def __init__(self, n_classes):\n",
        "        super().__init__()\n",
        "        self.n_classes = n_classes\n",
        "        self.net = nn.Sequential(\n",
        "            nn.Conv3d(1, 32, kernel_size=5, stride=2),\n",
        "            nn.ReLU(),\n",
        "            # nn.MaxPool3d(2),\n",
        "            nn.Conv3d(32, 32, kernel_size=3, stride=1),\n",
        "            nn.ReLU(),\n",
        "            nn.MaxPool3d(2), # max pool?\n",
        "            nn.Flatten(),\n",
        "            nn.Linear(32 * 6 * 6 * 6, 128),\n",
        "            nn.ReLU(),\n",
        "            nn.Dropout(0.5),\n",
        "            nn.Linear(128, n_classes)\n",
        "        )\n",
        "\n",
        "    def forward(self, x):\n",
        "        if x.dim() == 3:\n",
        "            x = x.unsqueeze(0)\n",
        "        return self.net(x)\n",
        "\n",
        "model = VoxNet().to(device)"
      ]
    },
    {
      "cell_type": "code",
      "execution_count": null,
      "metadata": {
        "colab": {
          "base_uri": "https://localhost:8080/"
        },
        "id": "8ADXiHghinN_",
        "outputId": "43aa4fd1-ffa1-421b-ff12-03e8199704dd"
      },
      "outputs": [
        {
          "output_type": "stream",
          "name": "stdout",
          "text": [
            "Epoch 1, Accuracy: 0.71\n"
          ]
        }
      ],
      "source": [
        "def train_model(model, train_loader, optimizer, criterion, device):\n",
        "    model.train()\n",
        "    for data, target in train_loader:\n",
        "        data, target = data.to(device), target.to(device)\n",
        "        optimizer.zero_grad()\n",
        "        output = model(data)\n",
        "        loss = criterion(output, target)\n",
        "        loss.backward()\n",
        "        optimizer.step()\n",
        "\n",
        "def evaluate_model(model, test_loader, device):\n",
        "    model.eval()\n",
        "    correct = 0\n",
        "    with torch.no_grad():\n",
        "        for data, target in test_loader:\n",
        "            data, target = data.to(device), target.to(device)\n",
        "            output = model(data)\n",
        "            pred = output.argmax(dim=1, keepdim=True)\n",
        "            correct += pred.eq(target.view_as(pred)).sum().item()\n",
        "    return correct / len(test_loader.dataset)\n",
        "\n",
        "# Hyperparameters\n",
        "epochs = 10\n",
        "lr = 0.001\n",
        "batch_size = 32\n",
        "\n",
        "# Set up data loaders\n",
        "train_dataset = ModelNet10Dataset(root_dir='ModelNet10', train=True)\n",
        "test_dataset = ModelNet10Dataset(root_dir='ModelNet10', train=False)\n",
        "train_loader = DataLoader(train_dataset, batch_size=batch_size, shuffle=True)\n",
        "test_loader = DataLoader(test_dataset, batch_size=batch_size, shuffle=False)\n",
        "\n",
        "# Set up the optimizer and loss function\n",
        "optimizer = optim.Adam(model.parameters(), lr=lr)\n",
        "criterion = nn.CrossEntropyLoss()\n",
        "\n",
        "# Training loop\n",
        "for epoch in range(epochs):\n",
        "    train_model(model, train_loader, optimizer, criterion, device)\n",
        "    accuracy = evaluate_model(model, test_loader, device)\n",
        "    print(f'Epoch {epoch+1}, Accuracy: {accuracy:.2f}')"
      ]
    }
  ],
  "metadata": {
    "colab": {
      "provenance": []
    },
    "kernelspec": {
      "display_name": "Python 3",
      "name": "python3"
    },
    "language_info": {
      "name": "python"
    }
  },
  "nbformat": 4,
  "nbformat_minor": 0
}